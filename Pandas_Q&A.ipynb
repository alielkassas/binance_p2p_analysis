{
 "cells": [
  {
   "cell_type": "markdown",
   "id": "e530befb-e544-4be2-9472-e4de577f99b9",
   "metadata": {},
   "source": [
    "# Q&A"
   ]
  },
  {
   "cell_type": "code",
   "execution_count": 57,
   "id": "5539854d-6dd3-4704-8ec8-9e698917e20c",
   "metadata": {},
   "outputs": [],
   "source": [
    "import pandas as pd\n",
    "\n",
    "df = pd.read_csv('orders.csv')"
   ]
  },
  {
   "cell_type": "code",
   "execution_count": 3,
   "id": "ef4b84a2-4ab1-46eb-80e0-5d58b001f340",
   "metadata": {},
   "outputs": [
    {
     "name": "stdout",
     "output_type": "stream",
     "text": [
      "<class 'pandas.core.frame.DataFrame'>\n",
      "RangeIndex: 990677 entries, 0 to 990676\n",
      "Data columns (total 12 columns):\n",
      " #   Column       Non-Null Count   Dtype  \n",
      "---  ------       --------------   -----  \n",
      " 0   order_id     990677 non-null  object \n",
      " 1   order_date   990677 non-null  object \n",
      " 2   ship_date    990677 non-null  object \n",
      " 3   ship_mode    990677 non-null  object \n",
      " 4   customer_id  990677 non-null  object \n",
      " 5   product_id   990677 non-null  object \n",
      " 6   sales        990677 non-null  float64\n",
      " 7   quantity     990677 non-null  int64  \n",
      " 8   discount     990677 non-null  float64\n",
      " 9   profit       990677 non-null  float64\n",
      " 10  postal_code  191101 non-null  float64\n",
      " 11  region_id    990484 non-null  float64\n",
      "dtypes: float64(5), int64(1), object(6)\n",
      "memory usage: 90.7+ MB\n"
     ]
    }
   ],
   "source": [
    "df.info()"
   ]
  },
  {
   "cell_type": "code",
   "execution_count": 5,
   "id": "8828d2ec-960e-4ac1-b306-15ca7853c4c7",
   "metadata": {
    "collapsed": true,
    "jupyter": {
     "outputs_hidden": true
    },
    "tags": []
   },
   "outputs": [
    {
     "data": {
      "text/plain": [
       "0         True\n",
       "1         True\n",
       "2         True\n",
       "3         True\n",
       "4         True\n",
       "          ... \n",
       "990672    True\n",
       "990673    True\n",
       "990674    True\n",
       "990675    True\n",
       "990676    True\n",
       "Name: region_id, Length: 990677, dtype: bool"
      ]
     },
     "execution_count": 5,
     "metadata": {},
     "output_type": "execute_result"
    }
   ],
   "source": [
    "~df.region_id.isna()"
   ]
  },
  {
   "cell_type": "code",
   "execution_count": 18,
   "id": "700ed8da-9ab7-4d2d-9265-c4efb4c5a0e9",
   "metadata": {
    "collapsed": true,
    "jupyter": {
     "outputs_hidden": true
    },
    "tags": []
   },
   "outputs": [
    {
     "data": {
      "text/plain": [
       "0         True\n",
       "1         True\n",
       "2         True\n",
       "3         True\n",
       "4         True\n",
       "          ... \n",
       "990672    True\n",
       "990673    True\n",
       "990674    True\n",
       "990675    True\n",
       "990676    True\n",
       "Name: region_id, Length: 990677, dtype: bool"
      ]
     },
     "execution_count": 18,
     "metadata": {},
     "output_type": "execute_result"
    }
   ],
   "source": [
    "df.region_id.notna()"
   ]
  },
  {
   "cell_type": "code",
   "execution_count": 6,
   "id": "2b34f8cc-6c37-40bb-9fc9-e45d900b78cb",
   "metadata": {
    "collapsed": true,
    "jupyter": {
     "outputs_hidden": true
    },
    "tags": []
   },
   "outputs": [
    {
     "data": {
      "text/plain": [
       "0         False\n",
       "1         False\n",
       "2         False\n",
       "3         False\n",
       "4         False\n",
       "          ...  \n",
       "990672     True\n",
       "990673     True\n",
       "990674     True\n",
       "990675     True\n",
       "990676     True\n",
       "Name: postal_code, Length: 990677, dtype: bool"
      ]
     },
     "execution_count": 6,
     "metadata": {},
     "output_type": "execute_result"
    }
   ],
   "source": [
    "df.postal_code.isna()"
   ]
  },
  {
   "cell_type": "code",
   "execution_count": 7,
   "id": "c4dfed5a-d107-43cb-bc3d-022c6ee46c97",
   "metadata": {},
   "outputs": [],
   "source": [
    "the_filter = (~df.region_id.isna()) & (df.postal_code.isna())"
   ]
  },
  {
   "cell_type": "code",
   "execution_count": 8,
   "id": "cc5130bb-2b8a-4130-930c-42644229b853",
   "metadata": {
    "collapsed": true,
    "jupyter": {
     "outputs_hidden": true
    },
    "tags": []
   },
   "outputs": [
    {
     "data": {
      "text/html": [
       "<div>\n",
       "<style scoped>\n",
       "    .dataframe tbody tr th:only-of-type {\n",
       "        vertical-align: middle;\n",
       "    }\n",
       "\n",
       "    .dataframe tbody tr th {\n",
       "        vertical-align: top;\n",
       "    }\n",
       "\n",
       "    .dataframe thead th {\n",
       "        text-align: right;\n",
       "    }\n",
       "</style>\n",
       "<table border=\"1\" class=\"dataframe\">\n",
       "  <thead>\n",
       "    <tr style=\"text-align: right;\">\n",
       "      <th></th>\n",
       "      <th>order_id</th>\n",
       "      <th>order_date</th>\n",
       "      <th>ship_date</th>\n",
       "      <th>ship_mode</th>\n",
       "      <th>customer_id</th>\n",
       "      <th>product_id</th>\n",
       "      <th>sales</th>\n",
       "      <th>quantity</th>\n",
       "      <th>discount</th>\n",
       "      <th>profit</th>\n",
       "      <th>postal_code</th>\n",
       "      <th>region_id</th>\n",
       "    </tr>\n",
       "  </thead>\n",
       "  <tbody>\n",
       "    <tr>\n",
       "      <th>317</th>\n",
       "      <td>CA-2016-141649</td>\n",
       "      <td>30/09/2016 00:00</td>\n",
       "      <td>30/09/2016 00:00</td>\n",
       "      <td>Same Day</td>\n",
       "      <td>DM-12955</td>\n",
       "      <td>OFF-AP-10003217</td>\n",
       "      <td>795.41</td>\n",
       "      <td>6</td>\n",
       "      <td>0.40</td>\n",
       "      <td>59.66</td>\n",
       "      <td>NaN</td>\n",
       "      <td>4792.0</td>\n",
       "    </tr>\n",
       "    <tr>\n",
       "      <th>1451</th>\n",
       "      <td>CA-2017-1120240</td>\n",
       "      <td>13/05/2017 00:00</td>\n",
       "      <td>16/05/2017 00:00</td>\n",
       "      <td>Same Day</td>\n",
       "      <td>AG-10495</td>\n",
       "      <td>OFF-LA-10001982</td>\n",
       "      <td>9.00</td>\n",
       "      <td>3</td>\n",
       "      <td>0.02</td>\n",
       "      <td>0.00</td>\n",
       "      <td>NaN</td>\n",
       "      <td>1784.0</td>\n",
       "    </tr>\n",
       "    <tr>\n",
       "      <th>2082</th>\n",
       "      <td>CA-2017-1638483</td>\n",
       "      <td>13/09/2017 00:00</td>\n",
       "      <td>14/09/2017 00:00</td>\n",
       "      <td>Same Day</td>\n",
       "      <td>SJ-20125</td>\n",
       "      <td>OFF-LA-10003714</td>\n",
       "      <td>12.00</td>\n",
       "      <td>4</td>\n",
       "      <td>0.02</td>\n",
       "      <td>0.00</td>\n",
       "      <td>NaN</td>\n",
       "      <td>3998.0</td>\n",
       "    </tr>\n",
       "    <tr>\n",
       "      <th>7305</th>\n",
       "      <td>CA-2018-2089964</td>\n",
       "      <td>04/07/2018 00:00</td>\n",
       "      <td>06/07/2018 00:00</td>\n",
       "      <td>Same Day</td>\n",
       "      <td>NF-18385</td>\n",
       "      <td>OFF-ENE-10002922</td>\n",
       "      <td>57.00</td>\n",
       "      <td>2</td>\n",
       "      <td>0.03</td>\n",
       "      <td>0.00</td>\n",
       "      <td>NaN</td>\n",
       "      <td>71845.0</td>\n",
       "    </tr>\n",
       "    <tr>\n",
       "      <th>25824</th>\n",
       "      <td>CA-2019-4962783</td>\n",
       "      <td>26/10/2019 00:00</td>\n",
       "      <td>31/10/2019 00:00</td>\n",
       "      <td>Same Day</td>\n",
       "      <td>RD-19810</td>\n",
       "      <td>OFF-LA-10001982</td>\n",
       "      <td>30.00</td>\n",
       "      <td>8</td>\n",
       "      <td>0.05</td>\n",
       "      <td>0.00</td>\n",
       "      <td>NaN</td>\n",
       "      <td>3539.0</td>\n",
       "    </tr>\n",
       "    <tr>\n",
       "      <th>...</th>\n",
       "      <td>...</td>\n",
       "      <td>...</td>\n",
       "      <td>...</td>\n",
       "      <td>...</td>\n",
       "      <td>...</td>\n",
       "      <td>...</td>\n",
       "      <td>...</td>\n",
       "      <td>...</td>\n",
       "      <td>...</td>\n",
       "      <td>...</td>\n",
       "      <td>...</td>\n",
       "      <td>...</td>\n",
       "    </tr>\n",
       "    <tr>\n",
       "      <th>990672</th>\n",
       "      <td>ZI-2020-4818465</td>\n",
       "      <td>08/01/2020 00:00</td>\n",
       "      <td>09/01/2020 00:00</td>\n",
       "      <td>Standard Class</td>\n",
       "      <td>JC-15775</td>\n",
       "      <td>TEC-KON-10003116</td>\n",
       "      <td>71.64</td>\n",
       "      <td>2</td>\n",
       "      <td>0.32</td>\n",
       "      <td>0.23</td>\n",
       "      <td>NaN</td>\n",
       "      <td>3104.0</td>\n",
       "    </tr>\n",
       "    <tr>\n",
       "      <th>990673</th>\n",
       "      <td>ZI-2020-495856</td>\n",
       "      <td>04/01/2020 00:00</td>\n",
       "      <td>09/01/2020 00:00</td>\n",
       "      <td>Second Class</td>\n",
       "      <td>JC-15775</td>\n",
       "      <td>OFF-AVE-10000543</td>\n",
       "      <td>1.16</td>\n",
       "      <td>1</td>\n",
       "      <td>0.17</td>\n",
       "      <td>0.09</td>\n",
       "      <td>NaN</td>\n",
       "      <td>3210.0</td>\n",
       "    </tr>\n",
       "    <tr>\n",
       "      <th>990674</th>\n",
       "      <td>ZI-2020-5409624</td>\n",
       "      <td>13/01/2020 00:00</td>\n",
       "      <td>18/01/2020 00:00</td>\n",
       "      <td>Second Class</td>\n",
       "      <td>JC-15775</td>\n",
       "      <td>OFF-AVE-10000543</td>\n",
       "      <td>1.16</td>\n",
       "      <td>1</td>\n",
       "      <td>0.17</td>\n",
       "      <td>0.09</td>\n",
       "      <td>NaN</td>\n",
       "      <td>3539.0</td>\n",
       "    </tr>\n",
       "    <tr>\n",
       "      <th>990675</th>\n",
       "      <td>ZI-2020-5478741</td>\n",
       "      <td>10/01/2020 00:00</td>\n",
       "      <td>10/01/2020 00:00</td>\n",
       "      <td>Standard Class</td>\n",
       "      <td>JC-15775</td>\n",
       "      <td>TEC-KON-10003116</td>\n",
       "      <td>71.64</td>\n",
       "      <td>2</td>\n",
       "      <td>0.32</td>\n",
       "      <td>0.23</td>\n",
       "      <td>NaN</td>\n",
       "      <td>3855.0</td>\n",
       "    </tr>\n",
       "    <tr>\n",
       "      <th>990676</th>\n",
       "      <td>ZI-2020-5986855</td>\n",
       "      <td>08/01/2020 00:00</td>\n",
       "      <td>11/01/2020 00:00</td>\n",
       "      <td>Standard Class</td>\n",
       "      <td>JC-15775</td>\n",
       "      <td>TEC-KON-10003116</td>\n",
       "      <td>71.64</td>\n",
       "      <td>2</td>\n",
       "      <td>0.32</td>\n",
       "      <td>0.23</td>\n",
       "      <td>NaN</td>\n",
       "      <td>783.0</td>\n",
       "    </tr>\n",
       "  </tbody>\n",
       "</table>\n",
       "<p>799383 rows × 12 columns</p>\n",
       "</div>"
      ],
      "text/plain": [
       "               order_id        order_date         ship_date       ship_mode  \\\n",
       "317      CA-2016-141649  30/09/2016 00:00  30/09/2016 00:00        Same Day   \n",
       "1451    CA-2017-1120240  13/05/2017 00:00  16/05/2017 00:00        Same Day   \n",
       "2082    CA-2017-1638483  13/09/2017 00:00  14/09/2017 00:00        Same Day   \n",
       "7305    CA-2018-2089964  04/07/2018 00:00  06/07/2018 00:00        Same Day   \n",
       "25824   CA-2019-4962783  26/10/2019 00:00  31/10/2019 00:00        Same Day   \n",
       "...                 ...               ...               ...             ...   \n",
       "990672  ZI-2020-4818465  08/01/2020 00:00  09/01/2020 00:00  Standard Class   \n",
       "990673   ZI-2020-495856  04/01/2020 00:00  09/01/2020 00:00    Second Class   \n",
       "990674  ZI-2020-5409624  13/01/2020 00:00  18/01/2020 00:00    Second Class   \n",
       "990675  ZI-2020-5478741  10/01/2020 00:00  10/01/2020 00:00  Standard Class   \n",
       "990676  ZI-2020-5986855  08/01/2020 00:00  11/01/2020 00:00  Standard Class   \n",
       "\n",
       "       customer_id        product_id   sales  quantity  discount  profit  \\\n",
       "317       DM-12955   OFF-AP-10003217  795.41         6      0.40   59.66   \n",
       "1451      AG-10495   OFF-LA-10001982    9.00         3      0.02    0.00   \n",
       "2082      SJ-20125   OFF-LA-10003714   12.00         4      0.02    0.00   \n",
       "7305      NF-18385  OFF-ENE-10002922   57.00         2      0.03    0.00   \n",
       "25824     RD-19810   OFF-LA-10001982   30.00         8      0.05    0.00   \n",
       "...            ...               ...     ...       ...       ...     ...   \n",
       "990672    JC-15775  TEC-KON-10003116   71.64         2      0.32    0.23   \n",
       "990673    JC-15775  OFF-AVE-10000543    1.16         1      0.17    0.09   \n",
       "990674    JC-15775  OFF-AVE-10000543    1.16         1      0.17    0.09   \n",
       "990675    JC-15775  TEC-KON-10003116   71.64         2      0.32    0.23   \n",
       "990676    JC-15775  TEC-KON-10003116   71.64         2      0.32    0.23   \n",
       "\n",
       "        postal_code  region_id  \n",
       "317             NaN     4792.0  \n",
       "1451            NaN     1784.0  \n",
       "2082            NaN     3998.0  \n",
       "7305            NaN    71845.0  \n",
       "25824           NaN     3539.0  \n",
       "...             ...        ...  \n",
       "990672          NaN     3104.0  \n",
       "990673          NaN     3210.0  \n",
       "990674          NaN     3539.0  \n",
       "990675          NaN     3855.0  \n",
       "990676          NaN      783.0  \n",
       "\n",
       "[799383 rows x 12 columns]"
      ]
     },
     "execution_count": 8,
     "metadata": {},
     "output_type": "execute_result"
    }
   ],
   "source": [
    "df[the_filter]"
   ]
  },
  {
   "cell_type": "code",
   "execution_count": 11,
   "id": "45b2113b-99fe-4f04-b437-1ad5773d73bb",
   "metadata": {},
   "outputs": [
    {
     "data": {
      "text/plain": [
       "region_id\n",
       "38.0           0\n",
       "22192.0        0\n",
       "23235.0        0\n",
       "23332.0        0\n",
       "23428.0        0\n",
       "           ...  \n",
       "3849.0         1\n",
       "3688.0     30117\n",
       "1488.0     44170\n",
       "5636.0     54889\n",
       "4553.0     61924\n",
       "Name: postal_code, Length: 149, dtype: int64"
      ]
     },
     "execution_count": 11,
     "metadata": {},
     "output_type": "execute_result"
    }
   ],
   "source": [
    "df.groupby('region_id').postal_code.count().sort_values()"
   ]
  },
  {
   "cell_type": "code",
   "execution_count": 13,
   "id": "32abc4d1-dd51-4a0f-a381-f4fe298d7f28",
   "metadata": {},
   "outputs": [
    {
     "data": {
      "text/plain": [
       "region_id\n",
       "5636.0    114\n",
       "3688.0    134\n",
       "4553.0    170\n",
       "1488.0    186\n",
       "Name: postal_code, dtype: int64"
      ]
     },
     "execution_count": 13,
     "metadata": {},
     "output_type": "execute_result"
    }
   ],
   "source": [
    "df.drop_duplicates(subset='postal_code').groupby('region_id').postal_code.count().sort_values()"
   ]
  },
  {
   "cell_type": "code",
   "execution_count": 16,
   "id": "88a273e5-86ce-4432-ab58-472752a22489",
   "metadata": {
    "collapsed": true,
    "jupyter": {
     "outputs_hidden": true
    },
    "tags": []
   },
   "outputs": [
    {
     "data": {
      "text/plain": [
       "0         False\n",
       "1         False\n",
       "2         False\n",
       "3         False\n",
       "4         False\n",
       "          ...  \n",
       "990672    False\n",
       "990673    False\n",
       "990674    False\n",
       "990675    False\n",
       "990676    False\n",
       "Length: 990677, dtype: bool"
      ]
     },
     "execution_count": 16,
     "metadata": {},
     "output_type": "execute_result"
    }
   ],
   "source": [
    "df.duplicated()"
   ]
  },
  {
   "cell_type": "code",
   "execution_count": null,
   "id": "7d2ab253-9d26-417b-beef-ae54f5f5b5e9",
   "metadata": {},
   "outputs": [],
   "source": []
  },
  {
   "cell_type": "code",
   "execution_count": 17,
   "id": "00394efc-3207-4049-84c7-d7fa7745b2ae",
   "metadata": {},
   "outputs": [
    {
     "data": {
      "text/plain": [
       "0"
      ]
     },
     "execution_count": 17,
     "metadata": {},
     "output_type": "execute_result"
    }
   ],
   "source": [
    "df.duplicated().sum()"
   ]
  },
  {
   "cell_type": "code",
   "execution_count": 20,
   "id": "4b14c676-d05b-48ba-b3d5-2449f5a160fc",
   "metadata": {},
   "outputs": [
    {
     "data": {
      "text/plain": [
       "0         CA-2016-2608109\n",
       "1         ES-2018-1945518\n",
       "2          ES-2018-853948\n",
       "3         ES-2019-1912507\n",
       "4         ES-2019-2038080\n",
       "               ...       \n",
       "990672    ZI-2020-4818465\n",
       "990673     ZI-2020-495856\n",
       "990674    ZI-2020-5409624\n",
       "990675    ZI-2020-5478741\n",
       "990676    ZI-2020-5986855\n",
       "Name: order_id, Length: 990677, dtype: object"
      ]
     },
     "execution_count": 20,
     "metadata": {},
     "output_type": "execute_result"
    }
   ],
   "source": [
    "df['order_id']"
   ]
  },
  {
   "cell_type": "code",
   "execution_count": null,
   "id": "273596a8-0275-4821-9038-f6e9d5dbd8e3",
   "metadata": {},
   "outputs": [],
   "source": []
  },
  {
   "cell_type": "code",
   "execution_count": 22,
   "id": "290e5a53-8372-4816-9c8e-081b52758da5",
   "metadata": {},
   "outputs": [
    {
     "data": {
      "text/plain": [
       "0         4553.0\n",
       "1         4553.0\n",
       "2         1488.0\n",
       "3         1488.0\n",
       "4         5636.0\n",
       "           ...  \n",
       "990672    3104.0\n",
       "990673    3210.0\n",
       "990674    3539.0\n",
       "990675    3855.0\n",
       "990676     783.0\n",
       "Name: region_id, Length: 990677, dtype: float64"
      ]
     },
     "execution_count": 22,
     "metadata": {},
     "output_type": "execute_result"
    }
   ],
   "source": [
    "df['region_id']"
   ]
  },
  {
   "cell_type": "code",
   "execution_count": 23,
   "id": "9d0ca0fd-37d4-4fc5-937a-e368e85f6e14",
   "metadata": {},
   "outputs": [
    {
     "data": {
      "text/plain": [
       "count    990484.000000\n",
       "mean       6370.767934\n",
       "std       10458.933204\n",
       "min          38.000000\n",
       "25%        2125.000000\n",
       "50%        3688.000000\n",
       "75%        5636.000000\n",
       "max       98923.000000\n",
       "Name: region_id, dtype: float64"
      ]
     },
     "execution_count": 23,
     "metadata": {},
     "output_type": "execute_result"
    }
   ],
   "source": [
    "df['region_id'].describe()"
   ]
  },
  {
   "cell_type": "markdown",
   "id": "92667f35-2124-4be3-aae1-faa3ca37a3c6",
   "metadata": {},
   "source": []
  },
  {
   "cell_type": "markdown",
   "id": "42970d3d-a020-4841-a03b-9818e8b5e32c",
   "metadata": {},
   "source": [
    "<img src='donkey3.jpg' width=200>"
   ]
  },
  {
   "cell_type": "code",
   "execution_count": 24,
   "id": "9e2c3223-0a97-44d8-8521-d18c4f1439c6",
   "metadata": {},
   "outputs": [
    {
     "data": {
      "text/html": [
       "<div>\n",
       "<style scoped>\n",
       "    .dataframe tbody tr th:only-of-type {\n",
       "        vertical-align: middle;\n",
       "    }\n",
       "\n",
       "    .dataframe tbody tr th {\n",
       "        vertical-align: top;\n",
       "    }\n",
       "\n",
       "    .dataframe thead th {\n",
       "        text-align: right;\n",
       "    }\n",
       "</style>\n",
       "<table border=\"1\" class=\"dataframe\">\n",
       "  <thead>\n",
       "    <tr style=\"text-align: right;\">\n",
       "      <th></th>\n",
       "      <th>order_id</th>\n",
       "      <th>order_date</th>\n",
       "      <th>ship_date</th>\n",
       "      <th>ship_mode</th>\n",
       "      <th>customer_id</th>\n",
       "      <th>product_id</th>\n",
       "      <th>sales</th>\n",
       "      <th>quantity</th>\n",
       "      <th>discount</th>\n",
       "      <th>profit</th>\n",
       "      <th>postal_code</th>\n",
       "      <th>region_id</th>\n",
       "    </tr>\n",
       "  </thead>\n",
       "  <tbody>\n",
       "    <tr>\n",
       "      <th>0</th>\n",
       "      <td>CA-2016-2608109</td>\n",
       "      <td>17/09/2016 00:00</td>\n",
       "      <td>17/09/2016 00:00</td>\n",
       "      <td>Same Day</td>\n",
       "      <td>TT-21070</td>\n",
       "      <td>OFF-FA-10002280</td>\n",
       "      <td>45.00</td>\n",
       "      <td>9</td>\n",
       "      <td>0.00</td>\n",
       "      <td>0.00</td>\n",
       "      <td>90049.0</td>\n",
       "      <td>4553.0</td>\n",
       "    </tr>\n",
       "    <tr>\n",
       "      <th>1</th>\n",
       "      <td>ES-2018-1945518</td>\n",
       "      <td>29/08/2018 00:00</td>\n",
       "      <td>02/09/2018 00:00</td>\n",
       "      <td>Same Day</td>\n",
       "      <td>AC-10420</td>\n",
       "      <td>OFF-FA-10001724</td>\n",
       "      <td>114.00</td>\n",
       "      <td>10</td>\n",
       "      <td>0.03</td>\n",
       "      <td>0.00</td>\n",
       "      <td>80013.0</td>\n",
       "      <td>4553.0</td>\n",
       "    </tr>\n",
       "    <tr>\n",
       "      <th>2</th>\n",
       "      <td>ES-2018-853948</td>\n",
       "      <td>28/07/2018 00:00</td>\n",
       "      <td>29/07/2018 00:00</td>\n",
       "      <td>Same Day</td>\n",
       "      <td>AC-10420</td>\n",
       "      <td>OFF-FA-10001724</td>\n",
       "      <td>114.00</td>\n",
       "      <td>10</td>\n",
       "      <td>0.03</td>\n",
       "      <td>0.00</td>\n",
       "      <td>77095.0</td>\n",
       "      <td>1488.0</td>\n",
       "    </tr>\n",
       "    <tr>\n",
       "      <th>3</th>\n",
       "      <td>ES-2019-1912507</td>\n",
       "      <td>01/04/2019 00:00</td>\n",
       "      <td>05/04/2019 00:00</td>\n",
       "      <td>Same Day</td>\n",
       "      <td>MD-17860</td>\n",
       "      <td>OFF-PA-10001758</td>\n",
       "      <td>114.00</td>\n",
       "      <td>4</td>\n",
       "      <td>0.05</td>\n",
       "      <td>0.00</td>\n",
       "      <td>77095.0</td>\n",
       "      <td>1488.0</td>\n",
       "    </tr>\n",
       "    <tr>\n",
       "      <th>4</th>\n",
       "      <td>ES-2019-2038080</td>\n",
       "      <td>25/03/2019 00:00</td>\n",
       "      <td>28/03/2019 00:00</td>\n",
       "      <td>Same Day</td>\n",
       "      <td>MD-17860</td>\n",
       "      <td>OFF-PA-10001758</td>\n",
       "      <td>114.00</td>\n",
       "      <td>4</td>\n",
       "      <td>0.05</td>\n",
       "      <td>0.00</td>\n",
       "      <td>8701.0</td>\n",
       "      <td>5636.0</td>\n",
       "    </tr>\n",
       "    <tr>\n",
       "      <th>...</th>\n",
       "      <td>...</td>\n",
       "      <td>...</td>\n",
       "      <td>...</td>\n",
       "      <td>...</td>\n",
       "      <td>...</td>\n",
       "      <td>...</td>\n",
       "      <td>...</td>\n",
       "      <td>...</td>\n",
       "      <td>...</td>\n",
       "      <td>...</td>\n",
       "      <td>...</td>\n",
       "      <td>...</td>\n",
       "    </tr>\n",
       "    <tr>\n",
       "      <th>990672</th>\n",
       "      <td>ZI-2020-4818465</td>\n",
       "      <td>08/01/2020 00:00</td>\n",
       "      <td>09/01/2020 00:00</td>\n",
       "      <td>Standard Class</td>\n",
       "      <td>JC-15775</td>\n",
       "      <td>TEC-KON-10003116</td>\n",
       "      <td>71.64</td>\n",
       "      <td>2</td>\n",
       "      <td>0.32</td>\n",
       "      <td>0.23</td>\n",
       "      <td>NaN</td>\n",
       "      <td>3104.0</td>\n",
       "    </tr>\n",
       "    <tr>\n",
       "      <th>990673</th>\n",
       "      <td>ZI-2020-495856</td>\n",
       "      <td>04/01/2020 00:00</td>\n",
       "      <td>09/01/2020 00:00</td>\n",
       "      <td>Second Class</td>\n",
       "      <td>JC-15775</td>\n",
       "      <td>OFF-AVE-10000543</td>\n",
       "      <td>1.16</td>\n",
       "      <td>1</td>\n",
       "      <td>0.17</td>\n",
       "      <td>0.09</td>\n",
       "      <td>NaN</td>\n",
       "      <td>3210.0</td>\n",
       "    </tr>\n",
       "    <tr>\n",
       "      <th>990674</th>\n",
       "      <td>ZI-2020-5409624</td>\n",
       "      <td>13/01/2020 00:00</td>\n",
       "      <td>18/01/2020 00:00</td>\n",
       "      <td>Second Class</td>\n",
       "      <td>JC-15775</td>\n",
       "      <td>OFF-AVE-10000543</td>\n",
       "      <td>1.16</td>\n",
       "      <td>1</td>\n",
       "      <td>0.17</td>\n",
       "      <td>0.09</td>\n",
       "      <td>NaN</td>\n",
       "      <td>3539.0</td>\n",
       "    </tr>\n",
       "    <tr>\n",
       "      <th>990675</th>\n",
       "      <td>ZI-2020-5478741</td>\n",
       "      <td>10/01/2020 00:00</td>\n",
       "      <td>10/01/2020 00:00</td>\n",
       "      <td>Standard Class</td>\n",
       "      <td>JC-15775</td>\n",
       "      <td>TEC-KON-10003116</td>\n",
       "      <td>71.64</td>\n",
       "      <td>2</td>\n",
       "      <td>0.32</td>\n",
       "      <td>0.23</td>\n",
       "      <td>NaN</td>\n",
       "      <td>3855.0</td>\n",
       "    </tr>\n",
       "    <tr>\n",
       "      <th>990676</th>\n",
       "      <td>ZI-2020-5986855</td>\n",
       "      <td>08/01/2020 00:00</td>\n",
       "      <td>11/01/2020 00:00</td>\n",
       "      <td>Standard Class</td>\n",
       "      <td>JC-15775</td>\n",
       "      <td>TEC-KON-10003116</td>\n",
       "      <td>71.64</td>\n",
       "      <td>2</td>\n",
       "      <td>0.32</td>\n",
       "      <td>0.23</td>\n",
       "      <td>NaN</td>\n",
       "      <td>783.0</td>\n",
       "    </tr>\n",
       "  </tbody>\n",
       "</table>\n",
       "<p>990677 rows × 12 columns</p>\n",
       "</div>"
      ],
      "text/plain": [
       "               order_id        order_date         ship_date       ship_mode  \\\n",
       "0       CA-2016-2608109  17/09/2016 00:00  17/09/2016 00:00        Same Day   \n",
       "1       ES-2018-1945518  29/08/2018 00:00  02/09/2018 00:00        Same Day   \n",
       "2        ES-2018-853948  28/07/2018 00:00  29/07/2018 00:00        Same Day   \n",
       "3       ES-2019-1912507  01/04/2019 00:00  05/04/2019 00:00        Same Day   \n",
       "4       ES-2019-2038080  25/03/2019 00:00  28/03/2019 00:00        Same Day   \n",
       "...                 ...               ...               ...             ...   \n",
       "990672  ZI-2020-4818465  08/01/2020 00:00  09/01/2020 00:00  Standard Class   \n",
       "990673   ZI-2020-495856  04/01/2020 00:00  09/01/2020 00:00    Second Class   \n",
       "990674  ZI-2020-5409624  13/01/2020 00:00  18/01/2020 00:00    Second Class   \n",
       "990675  ZI-2020-5478741  10/01/2020 00:00  10/01/2020 00:00  Standard Class   \n",
       "990676  ZI-2020-5986855  08/01/2020 00:00  11/01/2020 00:00  Standard Class   \n",
       "\n",
       "       customer_id        product_id   sales  quantity  discount  profit  \\\n",
       "0         TT-21070   OFF-FA-10002280   45.00         9      0.00    0.00   \n",
       "1         AC-10420   OFF-FA-10001724  114.00        10      0.03    0.00   \n",
       "2         AC-10420   OFF-FA-10001724  114.00        10      0.03    0.00   \n",
       "3         MD-17860   OFF-PA-10001758  114.00         4      0.05    0.00   \n",
       "4         MD-17860   OFF-PA-10001758  114.00         4      0.05    0.00   \n",
       "...            ...               ...     ...       ...       ...     ...   \n",
       "990672    JC-15775  TEC-KON-10003116   71.64         2      0.32    0.23   \n",
       "990673    JC-15775  OFF-AVE-10000543    1.16         1      0.17    0.09   \n",
       "990674    JC-15775  OFF-AVE-10000543    1.16         1      0.17    0.09   \n",
       "990675    JC-15775  TEC-KON-10003116   71.64         2      0.32    0.23   \n",
       "990676    JC-15775  TEC-KON-10003116   71.64         2      0.32    0.23   \n",
       "\n",
       "        postal_code  region_id  \n",
       "0           90049.0     4553.0  \n",
       "1           80013.0     4553.0  \n",
       "2           77095.0     1488.0  \n",
       "3           77095.0     1488.0  \n",
       "4            8701.0     5636.0  \n",
       "...             ...        ...  \n",
       "990672          NaN     3104.0  \n",
       "990673          NaN     3210.0  \n",
       "990674          NaN     3539.0  \n",
       "990675          NaN     3855.0  \n",
       "990676          NaN      783.0  \n",
       "\n",
       "[990677 rows x 12 columns]"
      ]
     },
     "execution_count": 24,
     "metadata": {},
     "output_type": "execute_result"
    }
   ],
   "source": [
    "df"
   ]
  },
  {
   "cell_type": "code",
   "execution_count": 60,
   "id": "cc641e8a-8f5a-448c-8d88-a13a9001b743",
   "metadata": {},
   "outputs": [
    {
     "data": {
      "text/plain": [
       "0        2016-09-17\n",
       "1        2018-08-29\n",
       "2        2018-07-28\n",
       "3        2019-04-01\n",
       "4        2019-03-25\n",
       "            ...    \n",
       "990672   2020-01-08\n",
       "990673   2020-01-04\n",
       "990674   2020-01-13\n",
       "990675   2020-01-10\n",
       "990676   2020-01-08\n",
       "Name: order_date, Length: 990677, dtype: datetime64[ns]"
      ]
     },
     "execution_count": 60,
     "metadata": {},
     "output_type": "execute_result"
    }
   ],
   "source": [
    "df['order_date'] = pd.to_datetime(df.order_date, format='%d/%m/%Y %H:%M')\n",
    "df['order_date']"
   ]
  },
  {
   "cell_type": "code",
   "execution_count": 61,
   "id": "3ca4a017-04db-45b5-a01b-0b8c338b7bce",
   "metadata": {},
   "outputs": [
    {
     "data": {
      "text/plain": [
       "0        2016-09-17\n",
       "1        2018-09-02\n",
       "2        2018-07-29\n",
       "3        2019-04-05\n",
       "4        2019-03-28\n",
       "            ...    \n",
       "990672   2020-01-09\n",
       "990673   2020-01-09\n",
       "990674   2020-01-18\n",
       "990675   2020-01-10\n",
       "990676   2020-01-11\n",
       "Name: ship_date, Length: 990677, dtype: datetime64[ns]"
      ]
     },
     "execution_count": 61,
     "metadata": {},
     "output_type": "execute_result"
    }
   ],
   "source": [
    "df['ship_date'] = pd.to_datetime(df.ship_date, format='%d/%m/%Y %H:%M')\n",
    "df['ship_date']"
   ]
  },
  {
   "cell_type": "code",
   "execution_count": 62,
   "id": "246d7602-b82c-406a-8934-577dcf784b0b",
   "metadata": {},
   "outputs": [
    {
     "data": {
      "text/plain": [
       "0        0 days\n",
       "1        4 days\n",
       "2        1 days\n",
       "3        4 days\n",
       "4        3 days\n",
       "          ...  \n",
       "990672   1 days\n",
       "990673   5 days\n",
       "990674   5 days\n",
       "990675   0 days\n",
       "990676   3 days\n",
       "Length: 990677, dtype: timedelta64[ns]"
      ]
     },
     "execution_count": 62,
     "metadata": {},
     "output_type": "execute_result"
    }
   ],
   "source": [
    "df['ship_date'] - df['order_date']"
   ]
  },
  {
   "cell_type": "code",
   "execution_count": 69,
   "id": "02db7398-705d-489e-9ebd-43befc893968",
   "metadata": {},
   "outputs": [
    {
     "data": {
      "text/plain": [
       "0         17\n",
       "1         29\n",
       "2         28\n",
       "3          1\n",
       "4         25\n",
       "          ..\n",
       "990672     8\n",
       "990673     4\n",
       "990674    13\n",
       "990675    10\n",
       "990676     8\n",
       "Name: order_date, Length: 990677, dtype: int64"
      ]
     },
     "execution_count": 69,
     "metadata": {},
     "output_type": "execute_result"
    }
   ],
   "source": [
    "df['order_date'].dt.day"
   ]
  },
  {
   "cell_type": "code",
   "execution_count": 56,
   "id": "e63458e6-bb64-4424-a450-2c492197e06a",
   "metadata": {
    "tags": []
   },
   "outputs": [
    {
     "data": {
      "text/plain": [
       "0         17\n",
       "1         29\n",
       "2         28\n",
       "3          4\n",
       "4         25\n",
       "          ..\n",
       "990672     1\n",
       "990673     1\n",
       "990674    13\n",
       "990675     1\n",
       "990676     1\n",
       "Name: order_day, Length: 990677, dtype: int64"
      ]
     },
     "execution_count": 56,
     "metadata": {},
     "output_type": "execute_result"
    }
   ],
   "source": [
    "df['order_day'] = df['order_date'].dt.day\n",
    "df['order_day'] "
   ]
  },
  {
   "cell_type": "code",
   "execution_count": 28,
   "id": "c0699f6b-76ff-427e-b86f-9bdf06cb996e",
   "metadata": {},
   "outputs": [
    {
     "data": {
      "text/plain": [
       "0          9\n",
       "1          8\n",
       "2          7\n",
       "3          1\n",
       "4          3\n",
       "          ..\n",
       "990672     8\n",
       "990673     4\n",
       "990674     1\n",
       "990675    10\n",
       "990676     8\n",
       "Name: order_date, Length: 990677, dtype: int64"
      ]
     },
     "execution_count": 28,
     "metadata": {},
     "output_type": "execute_result"
    }
   ],
   "source": [
    "df['order_date'].dt.month"
   ]
  },
  {
   "cell_type": "code",
   "execution_count": 29,
   "id": "0d0b0b9c-3f45-450f-afd4-67bc3ca12e68",
   "metadata": {},
   "outputs": [
    {
     "data": {
      "text/plain": [
       "0         2016\n",
       "1         2018\n",
       "2         2018\n",
       "3         2019\n",
       "4         2019\n",
       "          ... \n",
       "990672    2020\n",
       "990673    2020\n",
       "990674    2020\n",
       "990675    2020\n",
       "990676    2020\n",
       "Name: order_date, Length: 990677, dtype: int64"
      ]
     },
     "execution_count": 29,
     "metadata": {},
     "output_type": "execute_result"
    }
   ],
   "source": [
    "df['order_date'].dt.year"
   ]
  },
  {
   "cell_type": "code",
   "execution_count": 33,
   "id": "3f91d773-f713-4a48-b5b6-eb2417354c5b",
   "metadata": {},
   "outputs": [
    {
     "data": {
      "text/plain": [
       "0         2016-09-17\n",
       "1         2018-08-29\n",
       "2         2018-07-28\n",
       "3         2019-01-04\n",
       "4         2019-03-25\n",
       "             ...    \n",
       "990672    2020-08-01\n",
       "990673    2020-04-01\n",
       "990674    2020-01-13\n",
       "990675    2020-10-01\n",
       "990676    2020-08-01\n",
       "Name: order_date, Length: 990677, dtype: object"
      ]
     },
     "execution_count": 33,
     "metadata": {},
     "output_type": "execute_result"
    }
   ],
   "source": [
    "df['order_date'].dt.date"
   ]
  },
  {
   "cell_type": "code",
   "execution_count": 34,
   "id": "6d542425-09d4-423b-ba14-0ce21ec14467",
   "metadata": {},
   "outputs": [
    {
     "data": {
      "text/plain": [
       "0         00:00:00\n",
       "1         00:00:00\n",
       "2         00:00:00\n",
       "3         00:00:00\n",
       "4         00:00:00\n",
       "            ...   \n",
       "990672    00:00:00\n",
       "990673    00:00:00\n",
       "990674    00:00:00\n",
       "990675    00:00:00\n",
       "990676    00:00:00\n",
       "Name: order_date, Length: 990677, dtype: object"
      ]
     },
     "execution_count": 34,
     "metadata": {},
     "output_type": "execute_result"
    }
   ],
   "source": [
    "df['order_date'].dt.time"
   ]
  },
  {
   "cell_type": "code",
   "execution_count": 31,
   "id": "5335dd30-f19a-4d67-acc8-b1d856b1a835",
   "metadata": {},
   "outputs": [
    {
     "data": {
      "text/plain": [
       "0         3\n",
       "1         3\n",
       "2         3\n",
       "3         1\n",
       "4         1\n",
       "         ..\n",
       "990672    3\n",
       "990673    2\n",
       "990674    1\n",
       "990675    4\n",
       "990676    3\n",
       "Name: order_date, Length: 990677, dtype: int64"
      ]
     },
     "execution_count": 31,
     "metadata": {},
     "output_type": "execute_result"
    }
   ],
   "source": [
    "df['order_date'].dt.quarter"
   ]
  },
  {
   "cell_type": "code",
   "execution_count": 32,
   "id": "e56f38e2-7c8a-4980-8a9d-2d7f0bd6f8f0",
   "metadata": {},
   "outputs": [
    {
     "data": {
      "text/plain": [
       "0          Saturday\n",
       "1         Wednesday\n",
       "2          Saturday\n",
       "3            Friday\n",
       "4            Monday\n",
       "            ...    \n",
       "990672     Saturday\n",
       "990673    Wednesday\n",
       "990674       Monday\n",
       "990675     Thursday\n",
       "990676     Saturday\n",
       "Name: order_date, Length: 990677, dtype: object"
      ]
     },
     "execution_count": 32,
     "metadata": {},
     "output_type": "execute_result"
    }
   ],
   "source": [
    "df['order_date'].dt.day_name()"
   ]
  },
  {
   "cell_type": "code",
   "execution_count": 37,
   "id": "ce3401cc-383d-41c7-a240-c24d3eeafc5a",
   "metadata": {},
   "outputs": [
    {
     "data": {
      "text/plain": [
       "Index(['order_id', 'order_date', 'ship_date', 'ship_mode', 'customer_id',\n",
       "       'product_id', 'sales', 'quantity', 'discount', 'profit', 'postal_code',\n",
       "       'region_id', 'order_day'],\n",
       "      dtype='object')"
      ]
     },
     "execution_count": 37,
     "metadata": {},
     "output_type": "execute_result"
    }
   ],
   "source": [
    "df.columns"
   ]
  },
  {
   "cell_type": "code",
   "execution_count": 38,
   "id": "768691e5-a9e5-4682-b3f7-d9fd3d7fb134",
   "metadata": {},
   "outputs": [
    {
     "data": {
      "text/html": [
       "<div>\n",
       "<style scoped>\n",
       "    .dataframe tbody tr th:only-of-type {\n",
       "        vertical-align: middle;\n",
       "    }\n",
       "\n",
       "    .dataframe tbody tr th {\n",
       "        vertical-align: top;\n",
       "    }\n",
       "\n",
       "    .dataframe thead th {\n",
       "        text-align: right;\n",
       "    }\n",
       "</style>\n",
       "<table border=\"1\" class=\"dataframe\">\n",
       "  <thead>\n",
       "    <tr style=\"text-align: right;\">\n",
       "      <th></th>\n",
       "      <th>order_day</th>\n",
       "      <th>order_id</th>\n",
       "      <th>order_date</th>\n",
       "      <th>ship_date</th>\n",
       "      <th>ship_mode</th>\n",
       "      <th>customer_id</th>\n",
       "      <th>product_id</th>\n",
       "      <th>sales</th>\n",
       "      <th>quantity</th>\n",
       "      <th>discount</th>\n",
       "      <th>profit</th>\n",
       "      <th>postal_code</th>\n",
       "      <th>region_id</th>\n",
       "    </tr>\n",
       "  </thead>\n",
       "  <tbody>\n",
       "    <tr>\n",
       "      <th>0</th>\n",
       "      <td>17</td>\n",
       "      <td>CA-2016-2608109</td>\n",
       "      <td>2016-09-17</td>\n",
       "      <td>17/09/2016 00:00</td>\n",
       "      <td>Same Day</td>\n",
       "      <td>TT-21070</td>\n",
       "      <td>OFF-FA-10002280</td>\n",
       "      <td>45.00</td>\n",
       "      <td>9</td>\n",
       "      <td>0.00</td>\n",
       "      <td>0.00</td>\n",
       "      <td>90049.0</td>\n",
       "      <td>4553.0</td>\n",
       "    </tr>\n",
       "    <tr>\n",
       "      <th>1</th>\n",
       "      <td>29</td>\n",
       "      <td>ES-2018-1945518</td>\n",
       "      <td>2018-08-29</td>\n",
       "      <td>02/09/2018 00:00</td>\n",
       "      <td>Same Day</td>\n",
       "      <td>AC-10420</td>\n",
       "      <td>OFF-FA-10001724</td>\n",
       "      <td>114.00</td>\n",
       "      <td>10</td>\n",
       "      <td>0.03</td>\n",
       "      <td>0.00</td>\n",
       "      <td>80013.0</td>\n",
       "      <td>4553.0</td>\n",
       "    </tr>\n",
       "    <tr>\n",
       "      <th>2</th>\n",
       "      <td>28</td>\n",
       "      <td>ES-2018-853948</td>\n",
       "      <td>2018-07-28</td>\n",
       "      <td>29/07/2018 00:00</td>\n",
       "      <td>Same Day</td>\n",
       "      <td>AC-10420</td>\n",
       "      <td>OFF-FA-10001724</td>\n",
       "      <td>114.00</td>\n",
       "      <td>10</td>\n",
       "      <td>0.03</td>\n",
       "      <td>0.00</td>\n",
       "      <td>77095.0</td>\n",
       "      <td>1488.0</td>\n",
       "    </tr>\n",
       "    <tr>\n",
       "      <th>3</th>\n",
       "      <td>4</td>\n",
       "      <td>ES-2019-1912507</td>\n",
       "      <td>2019-01-04</td>\n",
       "      <td>05/04/2019 00:00</td>\n",
       "      <td>Same Day</td>\n",
       "      <td>MD-17860</td>\n",
       "      <td>OFF-PA-10001758</td>\n",
       "      <td>114.00</td>\n",
       "      <td>4</td>\n",
       "      <td>0.05</td>\n",
       "      <td>0.00</td>\n",
       "      <td>77095.0</td>\n",
       "      <td>1488.0</td>\n",
       "    </tr>\n",
       "    <tr>\n",
       "      <th>4</th>\n",
       "      <td>25</td>\n",
       "      <td>ES-2019-2038080</td>\n",
       "      <td>2019-03-25</td>\n",
       "      <td>28/03/2019 00:00</td>\n",
       "      <td>Same Day</td>\n",
       "      <td>MD-17860</td>\n",
       "      <td>OFF-PA-10001758</td>\n",
       "      <td>114.00</td>\n",
       "      <td>4</td>\n",
       "      <td>0.05</td>\n",
       "      <td>0.00</td>\n",
       "      <td>8701.0</td>\n",
       "      <td>5636.0</td>\n",
       "    </tr>\n",
       "    <tr>\n",
       "      <th>...</th>\n",
       "      <td>...</td>\n",
       "      <td>...</td>\n",
       "      <td>...</td>\n",
       "      <td>...</td>\n",
       "      <td>...</td>\n",
       "      <td>...</td>\n",
       "      <td>...</td>\n",
       "      <td>...</td>\n",
       "      <td>...</td>\n",
       "      <td>...</td>\n",
       "      <td>...</td>\n",
       "      <td>...</td>\n",
       "      <td>...</td>\n",
       "    </tr>\n",
       "    <tr>\n",
       "      <th>990672</th>\n",
       "      <td>1</td>\n",
       "      <td>ZI-2020-4818465</td>\n",
       "      <td>2020-08-01</td>\n",
       "      <td>09/01/2020 00:00</td>\n",
       "      <td>Standard Class</td>\n",
       "      <td>JC-15775</td>\n",
       "      <td>TEC-KON-10003116</td>\n",
       "      <td>71.64</td>\n",
       "      <td>2</td>\n",
       "      <td>0.32</td>\n",
       "      <td>0.23</td>\n",
       "      <td>NaN</td>\n",
       "      <td>3104.0</td>\n",
       "    </tr>\n",
       "    <tr>\n",
       "      <th>990673</th>\n",
       "      <td>1</td>\n",
       "      <td>ZI-2020-495856</td>\n",
       "      <td>2020-04-01</td>\n",
       "      <td>09/01/2020 00:00</td>\n",
       "      <td>Second Class</td>\n",
       "      <td>JC-15775</td>\n",
       "      <td>OFF-AVE-10000543</td>\n",
       "      <td>1.16</td>\n",
       "      <td>1</td>\n",
       "      <td>0.17</td>\n",
       "      <td>0.09</td>\n",
       "      <td>NaN</td>\n",
       "      <td>3210.0</td>\n",
       "    </tr>\n",
       "    <tr>\n",
       "      <th>990674</th>\n",
       "      <td>13</td>\n",
       "      <td>ZI-2020-5409624</td>\n",
       "      <td>2020-01-13</td>\n",
       "      <td>18/01/2020 00:00</td>\n",
       "      <td>Second Class</td>\n",
       "      <td>JC-15775</td>\n",
       "      <td>OFF-AVE-10000543</td>\n",
       "      <td>1.16</td>\n",
       "      <td>1</td>\n",
       "      <td>0.17</td>\n",
       "      <td>0.09</td>\n",
       "      <td>NaN</td>\n",
       "      <td>3539.0</td>\n",
       "    </tr>\n",
       "    <tr>\n",
       "      <th>990675</th>\n",
       "      <td>1</td>\n",
       "      <td>ZI-2020-5478741</td>\n",
       "      <td>2020-10-01</td>\n",
       "      <td>10/01/2020 00:00</td>\n",
       "      <td>Standard Class</td>\n",
       "      <td>JC-15775</td>\n",
       "      <td>TEC-KON-10003116</td>\n",
       "      <td>71.64</td>\n",
       "      <td>2</td>\n",
       "      <td>0.32</td>\n",
       "      <td>0.23</td>\n",
       "      <td>NaN</td>\n",
       "      <td>3855.0</td>\n",
       "    </tr>\n",
       "    <tr>\n",
       "      <th>990676</th>\n",
       "      <td>1</td>\n",
       "      <td>ZI-2020-5986855</td>\n",
       "      <td>2020-08-01</td>\n",
       "      <td>11/01/2020 00:00</td>\n",
       "      <td>Standard Class</td>\n",
       "      <td>JC-15775</td>\n",
       "      <td>TEC-KON-10003116</td>\n",
       "      <td>71.64</td>\n",
       "      <td>2</td>\n",
       "      <td>0.32</td>\n",
       "      <td>0.23</td>\n",
       "      <td>NaN</td>\n",
       "      <td>783.0</td>\n",
       "    </tr>\n",
       "  </tbody>\n",
       "</table>\n",
       "<p>990677 rows × 13 columns</p>\n",
       "</div>"
      ],
      "text/plain": [
       "        order_day         order_id order_date         ship_date  \\\n",
       "0              17  CA-2016-2608109 2016-09-17  17/09/2016 00:00   \n",
       "1              29  ES-2018-1945518 2018-08-29  02/09/2018 00:00   \n",
       "2              28   ES-2018-853948 2018-07-28  29/07/2018 00:00   \n",
       "3               4  ES-2019-1912507 2019-01-04  05/04/2019 00:00   \n",
       "4              25  ES-2019-2038080 2019-03-25  28/03/2019 00:00   \n",
       "...           ...              ...        ...               ...   \n",
       "990672          1  ZI-2020-4818465 2020-08-01  09/01/2020 00:00   \n",
       "990673          1   ZI-2020-495856 2020-04-01  09/01/2020 00:00   \n",
       "990674         13  ZI-2020-5409624 2020-01-13  18/01/2020 00:00   \n",
       "990675          1  ZI-2020-5478741 2020-10-01  10/01/2020 00:00   \n",
       "990676          1  ZI-2020-5986855 2020-08-01  11/01/2020 00:00   \n",
       "\n",
       "             ship_mode customer_id        product_id   sales  quantity  \\\n",
       "0             Same Day    TT-21070   OFF-FA-10002280   45.00         9   \n",
       "1             Same Day    AC-10420   OFF-FA-10001724  114.00        10   \n",
       "2             Same Day    AC-10420   OFF-FA-10001724  114.00        10   \n",
       "3             Same Day    MD-17860   OFF-PA-10001758  114.00         4   \n",
       "4             Same Day    MD-17860   OFF-PA-10001758  114.00         4   \n",
       "...                ...         ...               ...     ...       ...   \n",
       "990672  Standard Class    JC-15775  TEC-KON-10003116   71.64         2   \n",
       "990673    Second Class    JC-15775  OFF-AVE-10000543    1.16         1   \n",
       "990674    Second Class    JC-15775  OFF-AVE-10000543    1.16         1   \n",
       "990675  Standard Class    JC-15775  TEC-KON-10003116   71.64         2   \n",
       "990676  Standard Class    JC-15775  TEC-KON-10003116   71.64         2   \n",
       "\n",
       "        discount  profit  postal_code  region_id  \n",
       "0           0.00    0.00      90049.0     4553.0  \n",
       "1           0.03    0.00      80013.0     4553.0  \n",
       "2           0.03    0.00      77095.0     1488.0  \n",
       "3           0.05    0.00      77095.0     1488.0  \n",
       "4           0.05    0.00       8701.0     5636.0  \n",
       "...          ...     ...          ...        ...  \n",
       "990672      0.32    0.23          NaN     3104.0  \n",
       "990673      0.17    0.09          NaN     3210.0  \n",
       "990674      0.17    0.09          NaN     3539.0  \n",
       "990675      0.32    0.23          NaN     3855.0  \n",
       "990676      0.32    0.23          NaN      783.0  \n",
       "\n",
       "[990677 rows x 13 columns]"
      ]
     },
     "execution_count": 38,
     "metadata": {},
     "output_type": "execute_result"
    }
   ],
   "source": [
    "df[['order_day', 'order_id', 'order_date', 'ship_date', 'ship_mode', 'customer_id',\n",
    "       'product_id', 'sales', 'quantity', 'discount', 'profit', 'postal_code',\n",
    "       'region_id']]"
   ]
  },
  {
   "cell_type": "code",
   "execution_count": 66,
   "id": "326b7eda-5cbe-496d-aecc-2373406fd0cb",
   "metadata": {},
   "outputs": [
    {
     "data": {
      "text/plain": [
       "'1.5.3'"
      ]
     },
     "execution_count": 66,
     "metadata": {},
     "output_type": "execute_result"
    }
   ],
   "source": [
    "pd.__version__"
   ]
  },
  {
   "cell_type": "code",
   "execution_count": null,
   "id": "c66697c3-6231-480b-993b-60cd3e4d76db",
   "metadata": {},
   "outputs": [],
   "source": [
    "#!pip install --upgrade pandas"
   ]
  },
  {
   "cell_type": "code",
   "execution_count": 67,
   "id": "2f5ba14f-3be9-418e-ba49-a280564fcc7d",
   "metadata": {},
   "outputs": [],
   "source": [
    "df2 = pd.read_csv('orders.csv', parse_dates=['order_date', 'ship_date'])"
   ]
  },
  {
   "cell_type": "code",
   "execution_count": 68,
   "id": "7e7bcf39-9923-4164-83f5-739be5a28d94",
   "metadata": {},
   "outputs": [
    {
     "data": {
      "text/plain": [
       "order_id               object\n",
       "order_date     datetime64[ns]\n",
       "ship_date      datetime64[ns]\n",
       "ship_mode              object\n",
       "customer_id            object\n",
       "product_id             object\n",
       "sales                 float64\n",
       "quantity                int64\n",
       "discount              float64\n",
       "profit                float64\n",
       "postal_code           float64\n",
       "region_id             float64\n",
       "dtype: object"
      ]
     },
     "execution_count": 68,
     "metadata": {},
     "output_type": "execute_result"
    }
   ],
   "source": [
    "df2.dtypes"
   ]
  },
  {
   "cell_type": "code",
   "execution_count": 72,
   "id": "6004bff2-12ba-4827-b54b-c2fc2043db0c",
   "metadata": {},
   "outputs": [
    {
     "data": {
      "text/plain": [
       "{'Same Day': 0, 'First Class': 1, 'Second Class': 2, 'Standard Class': 3}"
      ]
     },
     "execution_count": 72,
     "metadata": {},
     "output_type": "execute_result"
    }
   ],
   "source": [
    "zainab_dic = {'Same Day': 0,\n",
    "              'First Class':1,\n",
    "             'Second Class':2,\n",
    "             'Standard Class':3}\n",
    "\n",
    "zainab_dic"
   ]
  },
  {
   "cell_type": "code",
   "execution_count": 78,
   "id": "0910ea82-2c62-44a5-87a4-150b2972f808",
   "metadata": {},
   "outputs": [
    {
     "data": {
      "text/plain": [
       "0    Same Day\n",
       "1    Same Day\n",
       "2    Same Day\n",
       "3    Same Day\n",
       "4    Same Day\n",
       "Name: ship_mode, dtype: object"
      ]
     },
     "execution_count": 78,
     "metadata": {},
     "output_type": "execute_result"
    }
   ],
   "source": [
    "df.ship_mode.head()"
   ]
  },
  {
   "cell_type": "code",
   "execution_count": 76,
   "id": "7df5faec-594f-46cd-8646-0eeb9d1a9809",
   "metadata": {},
   "outputs": [
    {
     "data": {
      "text/plain": [
       "0         0\n",
       "1         0\n",
       "2         0\n",
       "3         0\n",
       "4         0\n",
       "         ..\n",
       "990672    3\n",
       "990673    2\n",
       "990674    2\n",
       "990675    3\n",
       "990676    3\n",
       "Name: ship_mode, Length: 990677, dtype: int64"
      ]
     },
     "execution_count": 76,
     "metadata": {},
     "output_type": "execute_result"
    }
   ],
   "source": [
    "df.ship_mode.map(zainab_dic)"
   ]
  },
  {
   "cell_type": "code",
   "execution_count": null,
   "id": "b1867744-1d2b-4559-a849-ad4164db8455",
   "metadata": {},
   "outputs": [],
   "source": []
  }
 ],
 "metadata": {
  "kernelspec": {
   "display_name": "Python 3 (ipykernel)",
   "language": "python",
   "name": "python3"
  },
  "language_info": {
   "codemirror_mode": {
    "name": "ipython",
    "version": 3
   },
   "file_extension": ".py",
   "mimetype": "text/x-python",
   "name": "python",
   "nbconvert_exporter": "python",
   "pygments_lexer": "ipython3",
   "version": "3.10.9"
  }
 },
 "nbformat": 4,
 "nbformat_minor": 5
}
